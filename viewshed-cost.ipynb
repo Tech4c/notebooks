{
 "cells": [
  {
   "cell_type": "code",
   "execution_count": null,
   "metadata": {},
   "outputs": [],
   "source": [
    "import ee\n",
    "ee.Initialize()\n",
    "ee.Authenticate()"
   ]
  },
  {
   "cell_type": "code",
   "execution_count": 4,
   "metadata": {},
   "outputs": [],
   "source": [
    "# location of ship\n",
    "geometry = ee.Geometry.Point([4.1591602699991, 51.959397608499735])\n"
   ]
  },
  {
   "cell_type": "code",
   "execution_count": 5,
   "metadata": {},
   "outputs": [],
   "source": [
    "# viewshed\n",
    "viewshed = ee.Image('users/fbaart/vaarwegen/viewshed')\n"
   ]
  },
  {
   "cell_type": "code",
   "execution_count": 6,
   "metadata": {},
   "outputs": [
    {
     "data": {
      "text/plain": [
       "226"
      ]
     },
     "execution_count": 6,
     "metadata": {},
     "output_type": "execute_result"
    }
   ],
   "source": [
    "# water of the harbor\n",
    "table = ee.FeatureCollection('users/fbaart/vaarwegen/water')\n",
    "table.size().getInfo()"
   ]
  },
  {
   "cell_type": "code",
   "execution_count": 7,
   "metadata": {},
   "outputs": [],
   "source": [
    "# rasterize water geometries\n",
    "water = ee.Image().toByte().paint(table, 1)\n",
    "# source of the viewshed\n",
    "source = ee.Image().toByte().paint(geometry, 1, 10)\n",
    "# mask all other pixels\n",
    "source = source.updateMask(source)\n",
    "# compute distance from \n",
    "cumulativeCost = water.cumulativeCost(**{\n",
    "  \"source\": source,\n",
    "  \"maxDistance\": 10 * 1000 # 10 kilometers\n",
    "})\n"
   ]
  },
  {
   "cell_type": "code",
   "execution_count": 9,
   "metadata": {},
   "outputs": [],
   "source": [
    "# export to google drive\n",
    "task = ee.batch.Export.image.toDrive(\n",
    "    image=cumulativeCost,  # an ee.Image object.\n",
    "    region=viewshed.geometry(),\n",
    "    description='test-export',\n",
    "    folder='ee-export',\n",
    "    fileNamePrefix='viewshed-1',\n",
    "    scale=10,\n",
    "    crs='EPSG:4326'\n",
    ")"
   ]
  },
  {
   "cell_type": "code",
   "execution_count": 10,
   "metadata": {},
   "outputs": [],
   "source": [
    "task.start()"
   ]
  },
  {
   "cell_type": "code",
   "execution_count": null,
   "metadata": {},
   "outputs": [],
   "source": []
  }
 ],
 "metadata": {
  "kernelspec": {
   "display_name": "Python 3",
   "language": "python",
   "name": "python3"
  },
  "language_info": {
   "codemirror_mode": {
    "name": "ipython",
    "version": 3
   },
   "file_extension": ".py",
   "mimetype": "text/x-python",
   "name": "python",
   "nbconvert_exporter": "python",
   "pygments_lexer": "ipython3",
   "version": "3.8.5"
  }
 },
 "nbformat": 4,
 "nbformat_minor": 4
}
